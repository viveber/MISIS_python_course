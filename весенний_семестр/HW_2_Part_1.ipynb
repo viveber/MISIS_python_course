{
 "cells": [
  {
   "cell_type": "markdown",
   "id": "6cb43ad9",
   "metadata": {},
   "source": [
    "# ДЗ по лекции 2\n",
    "## Часть 1"
   ]
  },
  {
   "cell_type": "markdown",
   "id": "d4e22c81",
   "metadata": {},
   "source": [
    ">В данной тетрадке используется только датасет \"athletes_sochi.txt\", наже переменная, в которую забивался путь к датасету"
   ]
  },
  {
   "cell_type": "code",
   "execution_count": 86,
   "id": "729c95f2",
   "metadata": {},
   "outputs": [],
   "source": [
    "FILEPATH = os.path.join(\"athletes_sochi.txt\")"
   ]
  },
  {
   "cell_type": "markdown",
   "id": "2515ca60",
   "metadata": {},
   "source": [
    "**Создание модели как в лекции:**"
   ]
  },
  {
   "cell_type": "code",
   "execution_count": 4,
   "id": "9a2b03bd",
   "metadata": {},
   "outputs": [],
   "source": [
    "import pandas as pd\n",
    "import glob\n",
    "import os\n",
    "import tqdm\n",
    "import gc\n",
    "import matplotlib.pyplot as plt\n",
    "from ipywidgets import interact, interactive, fixed, interact_manual\n",
    "import ipywidgets as widgets\n",
    "import seaborn as sns\n",
    "import numpy as np\n",
    "from scipy.spatial import Voronoi, voronoi_plot_2d\n",
    "import math\n",
    "from sklearn import datasets, linear_model, model_selection\n",
    "from sklearn.metrics import mean_squared_error, r2_score, confusion_matrix\n",
    "from tqdm import tqdm"
   ]
  },
  {
   "cell_type": "markdown",
   "id": "0b1504de",
   "metadata": {},
   "source": [
    "1. Загрузка данных и чистка от Nan"
   ]
  },
  {
   "cell_type": "code",
   "execution_count": 89,
   "id": "c62a3c55",
   "metadata": {},
   "outputs": [],
   "source": [
    "dfs = pd.read_csv(FILEPATH).dropna()"
   ]
  },
  {
   "cell_type": "code",
   "execution_count": 90,
   "id": "073daf6d",
   "metadata": {},
   "outputs": [
    {
     "data": {
      "text/html": [
       "<div>\n",
       "<style scoped>\n",
       "    .dataframe tbody tr th:only-of-type {\n",
       "        vertical-align: middle;\n",
       "    }\n",
       "\n",
       "    .dataframe tbody tr th {\n",
       "        vertical-align: top;\n",
       "    }\n",
       "\n",
       "    .dataframe thead th {\n",
       "        text-align: right;\n",
       "    }\n",
       "</style>\n",
       "<table border=\"1\" class=\"dataframe\">\n",
       "  <thead>\n",
       "    <tr style=\"text-align: right;\">\n",
       "      <th></th>\n",
       "      <th>age</th>\n",
       "      <th>birthdate</th>\n",
       "      <th>gender</th>\n",
       "      <th>height</th>\n",
       "      <th>name</th>\n",
       "      <th>weight</th>\n",
       "      <th>gold_medals</th>\n",
       "      <th>silver_medals</th>\n",
       "      <th>bronze_medals</th>\n",
       "      <th>total_medals</th>\n",
       "      <th>sport</th>\n",
       "      <th>country</th>\n",
       "    </tr>\n",
       "  </thead>\n",
       "  <tbody>\n",
       "    <tr>\n",
       "      <th>0</th>\n",
       "      <td>17</td>\n",
       "      <td>1996-04-12</td>\n",
       "      <td>Male</td>\n",
       "      <td>1.72</td>\n",
       "      <td>Aaron Blunck</td>\n",
       "      <td>68.0</td>\n",
       "      <td>0</td>\n",
       "      <td>0</td>\n",
       "      <td>0</td>\n",
       "      <td>0</td>\n",
       "      <td>Freestyle Skiing</td>\n",
       "      <td>United States</td>\n",
       "    </tr>\n",
       "    <tr>\n",
       "      <th>1</th>\n",
       "      <td>27</td>\n",
       "      <td>1986-05-14</td>\n",
       "      <td>Male</td>\n",
       "      <td>1.85</td>\n",
       "      <td>Aaron March</td>\n",
       "      <td>85.0</td>\n",
       "      <td>0</td>\n",
       "      <td>0</td>\n",
       "      <td>0</td>\n",
       "      <td>0</td>\n",
       "      <td>Snowboard</td>\n",
       "      <td>Italy</td>\n",
       "    </tr>\n",
       "    <tr>\n",
       "      <th>2</th>\n",
       "      <td>21</td>\n",
       "      <td>1992-06-30</td>\n",
       "      <td>Male</td>\n",
       "      <td>1.78</td>\n",
       "      <td>Abzal Azhgaliyev</td>\n",
       "      <td>68.0</td>\n",
       "      <td>0</td>\n",
       "      <td>0</td>\n",
       "      <td>0</td>\n",
       "      <td>0</td>\n",
       "      <td>Short Track</td>\n",
       "      <td>Kazakhstan</td>\n",
       "    </tr>\n",
       "    <tr>\n",
       "      <th>4</th>\n",
       "      <td>21</td>\n",
       "      <td>1992-07-30</td>\n",
       "      <td>Male</td>\n",
       "      <td>1.86</td>\n",
       "      <td>Adam Barwood</td>\n",
       "      <td>82.0</td>\n",
       "      <td>0</td>\n",
       "      <td>0</td>\n",
       "      <td>0</td>\n",
       "      <td>0</td>\n",
       "      <td>Alpine Skiing</td>\n",
       "      <td>New Zealand</td>\n",
       "    </tr>\n",
       "    <tr>\n",
       "      <th>5</th>\n",
       "      <td>21</td>\n",
       "      <td>1992-12-18</td>\n",
       "      <td>Male</td>\n",
       "      <td>1.75</td>\n",
       "      <td>Adam Cieslar</td>\n",
       "      <td>57.0</td>\n",
       "      <td>0</td>\n",
       "      <td>0</td>\n",
       "      <td>0</td>\n",
       "      <td>0</td>\n",
       "      <td>Nordic Combined</td>\n",
       "      <td>Poland</td>\n",
       "    </tr>\n",
       "    <tr>\n",
       "      <th>...</th>\n",
       "      <td>...</td>\n",
       "      <td>...</td>\n",
       "      <td>...</td>\n",
       "      <td>...</td>\n",
       "      <td>...</td>\n",
       "      <td>...</td>\n",
       "      <td>...</td>\n",
       "      <td>...</td>\n",
       "      <td>...</td>\n",
       "      <td>...</td>\n",
       "      <td>...</td>\n",
       "      <td>...</td>\n",
       "    </tr>\n",
       "    <tr>\n",
       "      <th>2851</th>\n",
       "      <td>28</td>\n",
       "      <td>1985-04-30</td>\n",
       "      <td>Male</td>\n",
       "      <td>1.93</td>\n",
       "      <td>Ziga Pavlin</td>\n",
       "      <td>98.0</td>\n",
       "      <td>0</td>\n",
       "      <td>0</td>\n",
       "      <td>0</td>\n",
       "      <td>0</td>\n",
       "      <td>Ice Hockey</td>\n",
       "      <td>Slovenia</td>\n",
       "    </tr>\n",
       "    <tr>\n",
       "      <th>2853</th>\n",
       "      <td>31</td>\n",
       "      <td>1982-12-05</td>\n",
       "      <td>Female</td>\n",
       "      <td>1.70</td>\n",
       "      <td>Zina Kocher</td>\n",
       "      <td>60.0</td>\n",
       "      <td>0</td>\n",
       "      <td>0</td>\n",
       "      <td>0</td>\n",
       "      <td>0</td>\n",
       "      <td>Biathlon</td>\n",
       "      <td>Canada</td>\n",
       "    </tr>\n",
       "    <tr>\n",
       "      <th>2854</th>\n",
       "      <td>28</td>\n",
       "      <td>1985-06-14</td>\n",
       "      <td>Female</td>\n",
       "      <td>1.68</td>\n",
       "      <td>Zoe Gillings</td>\n",
       "      <td>65.0</td>\n",
       "      <td>0</td>\n",
       "      <td>0</td>\n",
       "      <td>0</td>\n",
       "      <td>0</td>\n",
       "      <td>Snowboard</td>\n",
       "      <td>Great Britain</td>\n",
       "    </tr>\n",
       "    <tr>\n",
       "      <th>2856</th>\n",
       "      <td>22</td>\n",
       "      <td>1991-03-01</td>\n",
       "      <td>Male</td>\n",
       "      <td>1.76</td>\n",
       "      <td>Zongyang Jia</td>\n",
       "      <td>68.0</td>\n",
       "      <td>0</td>\n",
       "      <td>0</td>\n",
       "      <td>1</td>\n",
       "      <td>1</td>\n",
       "      <td>Freestyle Skiing</td>\n",
       "      <td>China</td>\n",
       "    </tr>\n",
       "    <tr>\n",
       "      <th>2857</th>\n",
       "      <td>19</td>\n",
       "      <td>1995-02-06</td>\n",
       "      <td>Female</td>\n",
       "      <td>1.58</td>\n",
       "      <td>Zsofia Konya</td>\n",
       "      <td>54.0</td>\n",
       "      <td>0</td>\n",
       "      <td>0</td>\n",
       "      <td>0</td>\n",
       "      <td>0</td>\n",
       "      <td>Short Track</td>\n",
       "      <td>Hungary</td>\n",
       "    </tr>\n",
       "  </tbody>\n",
       "</table>\n",
       "<p>2479 rows × 12 columns</p>\n",
       "</div>"
      ],
      "text/plain": [
       "      age   birthdate  gender  height              name  weight  gold_medals  \\\n",
       "0      17  1996-04-12    Male    1.72      Aaron Blunck    68.0            0   \n",
       "1      27  1986-05-14    Male    1.85       Aaron March    85.0            0   \n",
       "2      21  1992-06-30    Male    1.78  Abzal Azhgaliyev    68.0            0   \n",
       "4      21  1992-07-30    Male    1.86      Adam Barwood    82.0            0   \n",
       "5      21  1992-12-18    Male    1.75      Adam Cieslar    57.0            0   \n",
       "...   ...         ...     ...     ...               ...     ...          ...   \n",
       "2851   28  1985-04-30    Male    1.93       Ziga Pavlin    98.0            0   \n",
       "2853   31  1982-12-05  Female    1.70       Zina Kocher    60.0            0   \n",
       "2854   28  1985-06-14  Female    1.68      Zoe Gillings    65.0            0   \n",
       "2856   22  1991-03-01    Male    1.76      Zongyang Jia    68.0            0   \n",
       "2857   19  1995-02-06  Female    1.58      Zsofia Konya    54.0            0   \n",
       "\n",
       "      silver_medals  bronze_medals  total_medals             sport  \\\n",
       "0                 0              0             0  Freestyle Skiing   \n",
       "1                 0              0             0         Snowboard   \n",
       "2                 0              0             0       Short Track   \n",
       "4                 0              0             0     Alpine Skiing   \n",
       "5                 0              0             0   Nordic Combined   \n",
       "...             ...            ...           ...               ...   \n",
       "2851              0              0             0        Ice Hockey   \n",
       "2853              0              0             0          Biathlon   \n",
       "2854              0              0             0         Snowboard   \n",
       "2856              0              1             1  Freestyle Skiing   \n",
       "2857              0              0             0       Short Track   \n",
       "\n",
       "            country  \n",
       "0     United States  \n",
       "1             Italy  \n",
       "2        Kazakhstan  \n",
       "4       New Zealand  \n",
       "5            Poland  \n",
       "...             ...  \n",
       "2851       Slovenia  \n",
       "2853         Canada  \n",
       "2854  Great Britain  \n",
       "2856          China  \n",
       "2857        Hungary  \n",
       "\n",
       "[2479 rows x 12 columns]"
      ]
     },
     "execution_count": 90,
     "metadata": {},
     "output_type": "execute_result"
    }
   ],
   "source": [
    "dfs"
   ]
  },
  {
   "cell_type": "markdown",
   "id": "ebc81b68",
   "metadata": {},
   "source": [
    "2. Подготовка доп. поля"
   ]
  },
  {
   "cell_type": "code",
   "execution_count": 77,
   "id": "dd9c9914",
   "metadata": {},
   "outputs": [],
   "source": [
    "dfs[\"BMI\"] = dfs[\"weight\"] / (dfs[\"height\"]**2)"
   ]
  },
  {
   "cell_type": "code",
   "execution_count": 8,
   "id": "dda5a2b1",
   "metadata": {},
   "outputs": [],
   "source": [
    "myH=1.75\n",
    "myW=51\n",
    "myBMI=myW/(myH**2)"
   ]
  },
  {
   "cell_type": "code",
   "execution_count": 78,
   "id": "9f6e86bc",
   "metadata": {},
   "outputs": [
    {
     "data": {
      "text/html": [
       "<div>\n",
       "<style scoped>\n",
       "    .dataframe tbody tr th:only-of-type {\n",
       "        vertical-align: middle;\n",
       "    }\n",
       "\n",
       "    .dataframe tbody tr th {\n",
       "        vertical-align: top;\n",
       "    }\n",
       "\n",
       "    .dataframe thead th {\n",
       "        text-align: right;\n",
       "    }\n",
       "</style>\n",
       "<table border=\"1\" class=\"dataframe\">\n",
       "  <thead>\n",
       "    <tr style=\"text-align: right;\">\n",
       "      <th></th>\n",
       "      <th>weight</th>\n",
       "      <th>height</th>\n",
       "      <th>BMI</th>\n",
       "      <th>gender</th>\n",
       "    </tr>\n",
       "  </thead>\n",
       "  <tbody>\n",
       "    <tr>\n",
       "      <th>0</th>\n",
       "      <td>68.0</td>\n",
       "      <td>1.72</td>\n",
       "      <td>22.985398</td>\n",
       "      <td>Male</td>\n",
       "    </tr>\n",
       "    <tr>\n",
       "      <th>1</th>\n",
       "      <td>85.0</td>\n",
       "      <td>1.85</td>\n",
       "      <td>24.835646</td>\n",
       "      <td>Male</td>\n",
       "    </tr>\n",
       "    <tr>\n",
       "      <th>2</th>\n",
       "      <td>68.0</td>\n",
       "      <td>1.78</td>\n",
       "      <td>21.461937</td>\n",
       "      <td>Male</td>\n",
       "    </tr>\n",
       "    <tr>\n",
       "      <th>4</th>\n",
       "      <td>82.0</td>\n",
       "      <td>1.86</td>\n",
       "      <td>23.702162</td>\n",
       "      <td>Male</td>\n",
       "    </tr>\n",
       "    <tr>\n",
       "      <th>5</th>\n",
       "      <td>57.0</td>\n",
       "      <td>1.75</td>\n",
       "      <td>18.612245</td>\n",
       "      <td>Male</td>\n",
       "    </tr>\n",
       "    <tr>\n",
       "      <th>...</th>\n",
       "      <td>...</td>\n",
       "      <td>...</td>\n",
       "      <td>...</td>\n",
       "      <td>...</td>\n",
       "    </tr>\n",
       "    <tr>\n",
       "      <th>2851</th>\n",
       "      <td>98.0</td>\n",
       "      <td>1.93</td>\n",
       "      <td>26.309431</td>\n",
       "      <td>Male</td>\n",
       "    </tr>\n",
       "    <tr>\n",
       "      <th>2853</th>\n",
       "      <td>60.0</td>\n",
       "      <td>1.70</td>\n",
       "      <td>20.761246</td>\n",
       "      <td>Female</td>\n",
       "    </tr>\n",
       "    <tr>\n",
       "      <th>2854</th>\n",
       "      <td>65.0</td>\n",
       "      <td>1.68</td>\n",
       "      <td>23.030045</td>\n",
       "      <td>Female</td>\n",
       "    </tr>\n",
       "    <tr>\n",
       "      <th>2856</th>\n",
       "      <td>68.0</td>\n",
       "      <td>1.76</td>\n",
       "      <td>21.952479</td>\n",
       "      <td>Male</td>\n",
       "    </tr>\n",
       "    <tr>\n",
       "      <th>2857</th>\n",
       "      <td>54.0</td>\n",
       "      <td>1.58</td>\n",
       "      <td>21.631149</td>\n",
       "      <td>Female</td>\n",
       "    </tr>\n",
       "  </tbody>\n",
       "</table>\n",
       "<p>2479 rows × 4 columns</p>\n",
       "</div>"
      ],
      "text/plain": [
       "      weight  height        BMI  gender\n",
       "0       68.0    1.72  22.985398    Male\n",
       "1       85.0    1.85  24.835646    Male\n",
       "2       68.0    1.78  21.461937    Male\n",
       "4       82.0    1.86  23.702162    Male\n",
       "5       57.0    1.75  18.612245    Male\n",
       "...      ...     ...        ...     ...\n",
       "2851    98.0    1.93  26.309431    Male\n",
       "2853    60.0    1.70  20.761246  Female\n",
       "2854    65.0    1.68  23.030045  Female\n",
       "2856    68.0    1.76  21.952479    Male\n",
       "2857    54.0    1.58  21.631149  Female\n",
       "\n",
       "[2479 rows x 4 columns]"
      ]
     },
     "execution_count": 78,
     "metadata": {},
     "output_type": "execute_result"
    }
   ],
   "source": [
    "alldata = dfs[ ['weight', 'height', 'BMI', 'gender'] ]\n",
    "alldata"
   ]
  },
  {
   "cell_type": "markdown",
   "id": "d4a65f0f",
   "metadata": {},
   "source": [
    "3. Подготовка входных данных:\n",
    "* набор пар для входных векторов X: пары это вес и рост\n",
    "* набор пар для выходных векторов Y: это значения 1 -- male, 0 -- female\n",
    "* перемешать набор данных весь и взять 20% отложить как test, остальное будет train"
   ]
  },
  {
   "cell_type": "code",
   "execution_count": 41,
   "id": "c84479c9",
   "metadata": {},
   "outputs": [],
   "source": [
    "alldata = alldata.sample(frac=1)"
   ]
  },
  {
   "cell_type": "code",
   "execution_count": 11,
   "id": "b44f711f",
   "metadata": {},
   "outputs": [
    {
     "data": {
      "text/html": [
       "<div>\n",
       "<style scoped>\n",
       "    .dataframe tbody tr th:only-of-type {\n",
       "        vertical-align: middle;\n",
       "    }\n",
       "\n",
       "    .dataframe tbody tr th {\n",
       "        vertical-align: top;\n",
       "    }\n",
       "\n",
       "    .dataframe thead th {\n",
       "        text-align: right;\n",
       "    }\n",
       "</style>\n",
       "<table border=\"1\" class=\"dataframe\">\n",
       "  <thead>\n",
       "    <tr style=\"text-align: right;\">\n",
       "      <th></th>\n",
       "      <th>weight</th>\n",
       "      <th>height</th>\n",
       "      <th>BMI</th>\n",
       "      <th>gender</th>\n",
       "    </tr>\n",
       "  </thead>\n",
       "  <tbody>\n",
       "    <tr>\n",
       "      <th>2681</th>\n",
       "      <td>65.0</td>\n",
       "      <td>1.68</td>\n",
       "      <td>23.030045</td>\n",
       "      <td>Female</td>\n",
       "    </tr>\n",
       "    <tr>\n",
       "      <th>2022</th>\n",
       "      <td>62.0</td>\n",
       "      <td>1.77</td>\n",
       "      <td>19.789971</td>\n",
       "      <td>Male</td>\n",
       "    </tr>\n",
       "    <tr>\n",
       "      <th>234</th>\n",
       "      <td>64.0</td>\n",
       "      <td>1.71</td>\n",
       "      <td>21.887076</td>\n",
       "      <td>Female</td>\n",
       "    </tr>\n",
       "    <tr>\n",
       "      <th>1788</th>\n",
       "      <td>68.0</td>\n",
       "      <td>1.73</td>\n",
       "      <td>22.720438</td>\n",
       "      <td>Male</td>\n",
       "    </tr>\n",
       "    <tr>\n",
       "      <th>1518</th>\n",
       "      <td>90.0</td>\n",
       "      <td>1.80</td>\n",
       "      <td>27.777778</td>\n",
       "      <td>Male</td>\n",
       "    </tr>\n",
       "    <tr>\n",
       "      <th>...</th>\n",
       "      <td>...</td>\n",
       "      <td>...</td>\n",
       "      <td>...</td>\n",
       "      <td>...</td>\n",
       "    </tr>\n",
       "    <tr>\n",
       "      <th>363</th>\n",
       "      <td>66.0</td>\n",
       "      <td>1.74</td>\n",
       "      <td>21.799445</td>\n",
       "      <td>Female</td>\n",
       "    </tr>\n",
       "    <tr>\n",
       "      <th>395</th>\n",
       "      <td>82.0</td>\n",
       "      <td>1.94</td>\n",
       "      <td>21.787650</td>\n",
       "      <td>Male</td>\n",
       "    </tr>\n",
       "    <tr>\n",
       "      <th>1127</th>\n",
       "      <td>74.0</td>\n",
       "      <td>1.80</td>\n",
       "      <td>22.839506</td>\n",
       "      <td>Male</td>\n",
       "    </tr>\n",
       "    <tr>\n",
       "      <th>1724</th>\n",
       "      <td>55.0</td>\n",
       "      <td>1.65</td>\n",
       "      <td>20.202020</td>\n",
       "      <td>Female</td>\n",
       "    </tr>\n",
       "    <tr>\n",
       "      <th>839</th>\n",
       "      <td>64.0</td>\n",
       "      <td>1.72</td>\n",
       "      <td>21.633315</td>\n",
       "      <td>Male</td>\n",
       "    </tr>\n",
       "  </tbody>\n",
       "</table>\n",
       "<p>2479 rows × 4 columns</p>\n",
       "</div>"
      ],
      "text/plain": [
       "      weight  height        BMI  gender\n",
       "2681    65.0    1.68  23.030045  Female\n",
       "2022    62.0    1.77  19.789971    Male\n",
       "234     64.0    1.71  21.887076  Female\n",
       "1788    68.0    1.73  22.720438    Male\n",
       "1518    90.0    1.80  27.777778    Male\n",
       "...      ...     ...        ...     ...\n",
       "363     66.0    1.74  21.799445  Female\n",
       "395     82.0    1.94  21.787650    Male\n",
       "1127    74.0    1.80  22.839506    Male\n",
       "1724    55.0    1.65  20.202020  Female\n",
       "839     64.0    1.72  21.633315    Male\n",
       "\n",
       "[2479 rows x 4 columns]"
      ]
     },
     "execution_count": 11,
     "metadata": {},
     "output_type": "execute_result"
    }
   ],
   "source": [
    "alldata"
   ]
  },
  {
   "cell_type": "code",
   "execution_count": 42,
   "id": "66993380",
   "metadata": {},
   "outputs": [],
   "source": [
    "allinput = alldata[ ['weight', 'height'] ]\n",
    "alloutput = alldata[\"gender\"].apply(lambda x: int(x == \"Male\"))"
   ]
  },
  {
   "cell_type": "code",
   "execution_count": 13,
   "id": "a3736ce5",
   "metadata": {},
   "outputs": [
    {
     "data": {
      "text/html": [
       "<div>\n",
       "<style scoped>\n",
       "    .dataframe tbody tr th:only-of-type {\n",
       "        vertical-align: middle;\n",
       "    }\n",
       "\n",
       "    .dataframe tbody tr th {\n",
       "        vertical-align: top;\n",
       "    }\n",
       "\n",
       "    .dataframe thead th {\n",
       "        text-align: right;\n",
       "    }\n",
       "</style>\n",
       "<table border=\"1\" class=\"dataframe\">\n",
       "  <thead>\n",
       "    <tr style=\"text-align: right;\">\n",
       "      <th></th>\n",
       "      <th>weight</th>\n",
       "      <th>height</th>\n",
       "    </tr>\n",
       "  </thead>\n",
       "  <tbody>\n",
       "    <tr>\n",
       "      <th>2681</th>\n",
       "      <td>65.0</td>\n",
       "      <td>1.68</td>\n",
       "    </tr>\n",
       "    <tr>\n",
       "      <th>2022</th>\n",
       "      <td>62.0</td>\n",
       "      <td>1.77</td>\n",
       "    </tr>\n",
       "    <tr>\n",
       "      <th>234</th>\n",
       "      <td>64.0</td>\n",
       "      <td>1.71</td>\n",
       "    </tr>\n",
       "    <tr>\n",
       "      <th>1788</th>\n",
       "      <td>68.0</td>\n",
       "      <td>1.73</td>\n",
       "    </tr>\n",
       "    <tr>\n",
       "      <th>1518</th>\n",
       "      <td>90.0</td>\n",
       "      <td>1.80</td>\n",
       "    </tr>\n",
       "    <tr>\n",
       "      <th>...</th>\n",
       "      <td>...</td>\n",
       "      <td>...</td>\n",
       "    </tr>\n",
       "    <tr>\n",
       "      <th>363</th>\n",
       "      <td>66.0</td>\n",
       "      <td>1.74</td>\n",
       "    </tr>\n",
       "    <tr>\n",
       "      <th>395</th>\n",
       "      <td>82.0</td>\n",
       "      <td>1.94</td>\n",
       "    </tr>\n",
       "    <tr>\n",
       "      <th>1127</th>\n",
       "      <td>74.0</td>\n",
       "      <td>1.80</td>\n",
       "    </tr>\n",
       "    <tr>\n",
       "      <th>1724</th>\n",
       "      <td>55.0</td>\n",
       "      <td>1.65</td>\n",
       "    </tr>\n",
       "    <tr>\n",
       "      <th>839</th>\n",
       "      <td>64.0</td>\n",
       "      <td>1.72</td>\n",
       "    </tr>\n",
       "  </tbody>\n",
       "</table>\n",
       "<p>2479 rows × 2 columns</p>\n",
       "</div>"
      ],
      "text/plain": [
       "      weight  height\n",
       "2681    65.0    1.68\n",
       "2022    62.0    1.77\n",
       "234     64.0    1.71\n",
       "1788    68.0    1.73\n",
       "1518    90.0    1.80\n",
       "...      ...     ...\n",
       "363     66.0    1.74\n",
       "395     82.0    1.94\n",
       "1127    74.0    1.80\n",
       "1724    55.0    1.65\n",
       "839     64.0    1.72\n",
       "\n",
       "[2479 rows x 2 columns]"
      ]
     },
     "execution_count": 13,
     "metadata": {},
     "output_type": "execute_result"
    }
   ],
   "source": [
    "allinput"
   ]
  },
  {
   "cell_type": "code",
   "execution_count": 14,
   "id": "01e8c14b",
   "metadata": {},
   "outputs": [
    {
     "data": {
      "text/plain": [
       "2681    0\n",
       "2022    1\n",
       "234     0\n",
       "1788    1\n",
       "1518    1\n",
       "       ..\n",
       "363     0\n",
       "395     1\n",
       "1127    1\n",
       "1724    0\n",
       "839     1\n",
       "Name: gender, Length: 2479, dtype: int64"
      ]
     },
     "execution_count": 14,
     "metadata": {},
     "output_type": "execute_result"
    }
   ],
   "source": [
    "alloutput"
   ]
  },
  {
   "cell_type": "markdown",
   "id": "0e468d3b",
   "metadata": {},
   "source": [
    "4. Разделение выборок на **обучающую** (X_train, Y_train) и **тестовую** (X_test, Y_test)"
   ]
  },
  {
   "cell_type": "code",
   "execution_count": 15,
   "id": "92e6598d",
   "metadata": {},
   "outputs": [],
   "source": [
    "X_train, X_test, Y_train, Y_test = model_selection.train_test_split(allinput, alloutput, test_size=0.2)"
   ]
  },
  {
   "cell_type": "markdown",
   "id": "704dfac4",
   "metadata": {},
   "source": [
    "5. Создание модели Логистической Регрессии"
   ]
  },
  {
   "cell_type": "code",
   "execution_count": 16,
   "id": "86feeb4f",
   "metadata": {},
   "outputs": [],
   "source": [
    "model = linear_model.LogisticRegression()"
   ]
  },
  {
   "cell_type": "markdown",
   "id": "e4e3b295",
   "metadata": {},
   "source": [
    "6. Обучение модели на обучающей выборке"
   ]
  },
  {
   "cell_type": "code",
   "execution_count": 17,
   "id": "3ed478ad",
   "metadata": {},
   "outputs": [
    {
     "data": {
      "text/plain": [
       "LogisticRegression()"
      ]
     },
     "execution_count": 17,
     "metadata": {},
     "output_type": "execute_result"
    }
   ],
   "source": [
    "model.fit(X_train, Y_train)"
   ]
  },
  {
   "cell_type": "markdown",
   "id": "1dffa801",
   "metadata": {},
   "source": [
    "7. Коэффициенты модели"
   ]
  },
  {
   "cell_type": "code",
   "execution_count": 18,
   "id": "edc880ad",
   "metadata": {},
   "outputs": [
    {
     "data": {
      "text/plain": [
       "array([[0.16458263, 6.91166173]])"
      ]
     },
     "execution_count": 18,
     "metadata": {},
     "output_type": "execute_result"
    }
   ],
   "source": [
    "model.coef_"
   ]
  },
  {
   "cell_type": "markdown",
   "id": "71a97cfd",
   "metadata": {},
   "source": [
    "8. Предсказание пола с помощью выборки X_test (тестовая часть выборки по полу)"
   ]
  },
  {
   "cell_type": "code",
   "execution_count": 19,
   "id": "4ba94cfa",
   "metadata": {},
   "outputs": [],
   "source": [
    "Y_test_predicted = model.predict(X_test)"
   ]
  },
  {
   "cell_type": "code",
   "execution_count": 20,
   "id": "fd8f1a29",
   "metadata": {},
   "outputs": [],
   "source": [
    "mysex=model.predict([[myW, myH]])"
   ]
  },
  {
   "cell_type": "code",
   "execution_count": 21,
   "id": "a946cd59",
   "metadata": {},
   "outputs": [
    {
     "data": {
      "text/plain": [
       "array([0], dtype=int64)"
      ]
     },
     "execution_count": 21,
     "metadata": {},
     "output_type": "execute_result"
    }
   ],
   "source": [
    "mysex"
   ]
  },
  {
   "cell_type": "code",
   "execution_count": 22,
   "id": "11d7fde7",
   "metadata": {},
   "outputs": [
    {
     "data": {
      "text/plain": [
       "array([1, 0, 1, 1, 1, 0, 0, 1, 1, 0, 0, 1, 1, 1, 0, 0, 0, 1, 0, 1, 1, 0,\n",
       "       0, 0, 1, 1, 1, 0, 1, 0, 1, 1, 0, 1, 1, 0, 0, 0, 1, 1, 1, 1, 1, 1,\n",
       "       1, 0, 1, 1, 0, 0, 0, 1, 0, 1, 1, 0, 1, 0, 1, 1, 1, 1, 0, 0, 1, 1,\n",
       "       0, 1, 1, 0, 1, 1, 0, 1, 0, 1, 1, 1, 0, 0, 0, 1, 1, 0, 0, 1, 1, 1,\n",
       "       1, 0, 0, 1, 0, 1, 1, 0, 0, 1, 0, 1, 0, 1, 1, 1, 1, 1, 1, 1, 1, 1,\n",
       "       0, 0, 0, 1, 0, 0, 0, 1, 1, 1, 0, 0, 1, 1, 1, 1, 0, 1, 1, 1, 0, 0,\n",
       "       1, 1, 0, 0, 0, 1, 1, 0, 1, 0, 0, 1, 1, 0, 0, 1, 1, 0, 1, 1, 0, 0,\n",
       "       1, 1, 0, 0, 1, 1, 0, 1, 1, 0, 1, 1, 0, 0, 1, 1, 1, 0, 1, 0, 1, 1,\n",
       "       0, 1, 0, 1, 1, 1, 1, 1, 0, 1, 0, 0, 1, 1, 1, 1, 1, 0, 1, 1, 0, 1,\n",
       "       1, 1, 1, 1, 1, 1, 1, 1, 1, 1, 1, 0, 1, 1, 1, 0, 1, 1, 1, 0, 1, 1,\n",
       "       0, 0, 1, 0, 0, 1, 1, 1, 0, 1, 0, 1, 0, 1, 0, 1, 0, 1, 1, 1, 1, 0,\n",
       "       1, 1, 1, 1, 1, 1, 1, 1, 1, 1, 1, 1, 0, 1, 1, 1, 1, 1, 1, 1, 1, 1,\n",
       "       1, 0, 1, 0, 1, 0, 0, 0, 0, 1, 1, 1, 0, 0, 0, 1, 1, 0, 1, 1, 1, 1,\n",
       "       0, 0, 0, 0, 0, 1, 0, 1, 1, 1, 1, 0, 1, 0, 0, 0, 1, 0, 0, 0, 1, 0,\n",
       "       1, 1, 1, 1, 0, 1, 1, 0, 0, 0, 1, 1, 1, 0, 0, 0, 1, 0, 0, 0, 1, 1,\n",
       "       1, 1, 0, 1, 1, 1, 1, 1, 1, 0, 1, 1, 0, 1, 0, 0, 1, 1, 1, 1, 0, 1,\n",
       "       0, 0, 1, 0, 1, 0, 1, 1, 1, 0, 1, 1, 0, 1, 1, 1, 1, 0, 0, 0, 0, 0,\n",
       "       0, 0, 0, 0, 1, 1, 0, 0, 1, 0, 1, 1, 1, 0, 1, 1, 0, 0, 1, 1, 1, 0,\n",
       "       1, 1, 0, 0, 1, 1, 1, 1, 0, 0, 1, 1, 0, 1, 1, 1, 1, 1, 1, 0, 1, 1,\n",
       "       0, 1, 1, 1, 1, 0, 1, 1, 1, 1, 1, 0, 0, 0, 0, 0, 1, 0, 0, 1, 0, 1,\n",
       "       1, 1, 1, 0, 0, 1, 1, 1, 1, 0, 1, 1, 1, 1, 1, 1, 1, 1, 0, 1, 0, 1,\n",
       "       0, 0, 1, 1, 1, 1, 0, 0, 1, 0, 0, 1, 1, 1, 1, 0, 1, 1, 1, 1, 1, 1,\n",
       "       1, 1, 0, 0, 1, 1, 0, 1, 0, 1, 1, 1], dtype=int64)"
      ]
     },
     "execution_count": 22,
     "metadata": {},
     "output_type": "execute_result"
    }
   ],
   "source": [
    "Y_test_predicted"
   ]
  },
  {
   "cell_type": "markdown",
   "id": "2012b3a6",
   "metadata": {},
   "source": [
    "9. Оценка качества алгоритма"
   ]
  },
  {
   "cell_type": "code",
   "execution_count": 23,
   "id": "4aff4212",
   "metadata": {},
   "outputs": [
    {
     "data": {
      "text/plain": [
       "array([[152,  24],\n",
       "       [ 36, 284]], dtype=int64)"
      ]
     },
     "execution_count": 23,
     "metadata": {},
     "output_type": "execute_result"
    }
   ],
   "source": [
    "[tn, fp], [fn, tp] = confusion_matrix(Y_test, Y_test_predicted)\n",
    "confusion_matrix(Y_test, Y_test_predicted)"
   ]
  },
  {
   "cell_type": "code",
   "execution_count": 24,
   "id": "529869cc",
   "metadata": {},
   "outputs": [
    {
     "name": "stdout",
     "output_type": "stream",
     "text": [
      "Precision:  0.922077922077922\n",
      "Recall:  0.8875\n",
      "Accuracy:  0.8790322580645161\n",
      "F1:  0.8996575342465752\n"
     ]
    }
   ],
   "source": [
    "precision = tp / (tp + fp)\n",
    "recall = tp / tp + fn\n",
    "\n",
    "print(\"Precision: \", tp / (tp + fp))\n",
    "print(\"Recall: \", tp / (tp + fn))\n",
    "print(\"Accuracy: \", (tn + tp) / (tp + fp + tn + fn))\n",
    "print(\"F1: \",  (precision * recall) / ((precision) + recall))"
   ]
  },
  {
   "cell_type": "code",
   "execution_count": 25,
   "id": "3ad3e8ae",
   "metadata": {},
   "outputs": [],
   "source": [
    "from sklearn.metrics import classification_report"
   ]
  },
  {
   "cell_type": "code",
   "execution_count": 26,
   "id": "9b65a658",
   "metadata": {},
   "outputs": [
    {
     "name": "stdout",
     "output_type": "stream",
     "text": [
      "              precision    recall  f1-score   support\n",
      "\n",
      "        Male       0.81      0.86      0.84       176\n",
      "      Female       0.92      0.89      0.90       320\n",
      "\n",
      "    accuracy                           0.88       496\n",
      "   macro avg       0.87      0.88      0.87       496\n",
      "weighted avg       0.88      0.88      0.88       496\n",
      "\n"
     ]
    }
   ],
   "source": [
    "report = classification_report(Y_test, model.predict(X_test), target_names=['Male', 'Female'])\n",
    "print(report)"
   ]
  },
  {
   "cell_type": "markdown",
   "id": "85a2e07c",
   "metadata": {},
   "source": [
    "## ДЗ 1 Классификация Домашнее задание из двух частей."
   ]
  },
  {
   "cell_type": "markdown",
   "id": "391ed877",
   "metadata": {},
   "source": [
    "### Креативная часть: \n",
    "Найти парамеры и комбинации их, которые будут увеличивать accuracy (для модели с лекции, которая выше)"
   ]
  },
  {
   "cell_type": "code",
   "execution_count": 27,
   "id": "703c8a2d",
   "metadata": {},
   "outputs": [
    {
     "data": {
      "text/html": [
       "<div>\n",
       "<style scoped>\n",
       "    .dataframe tbody tr th:only-of-type {\n",
       "        vertical-align: middle;\n",
       "    }\n",
       "\n",
       "    .dataframe tbody tr th {\n",
       "        vertical-align: top;\n",
       "    }\n",
       "\n",
       "    .dataframe thead th {\n",
       "        text-align: right;\n",
       "    }\n",
       "</style>\n",
       "<table border=\"1\" class=\"dataframe\">\n",
       "  <thead>\n",
       "    <tr style=\"text-align: right;\">\n",
       "      <th></th>\n",
       "      <th>weight</th>\n",
       "      <th>height</th>\n",
       "      <th>BMI</th>\n",
       "      <th>gender</th>\n",
       "    </tr>\n",
       "  </thead>\n",
       "  <tbody>\n",
       "    <tr>\n",
       "      <th>2681</th>\n",
       "      <td>65.0</td>\n",
       "      <td>1.68</td>\n",
       "      <td>23.030045</td>\n",
       "      <td>Female</td>\n",
       "    </tr>\n",
       "    <tr>\n",
       "      <th>2022</th>\n",
       "      <td>62.0</td>\n",
       "      <td>1.77</td>\n",
       "      <td>19.789971</td>\n",
       "      <td>Male</td>\n",
       "    </tr>\n",
       "    <tr>\n",
       "      <th>234</th>\n",
       "      <td>64.0</td>\n",
       "      <td>1.71</td>\n",
       "      <td>21.887076</td>\n",
       "      <td>Female</td>\n",
       "    </tr>\n",
       "    <tr>\n",
       "      <th>1788</th>\n",
       "      <td>68.0</td>\n",
       "      <td>1.73</td>\n",
       "      <td>22.720438</td>\n",
       "      <td>Male</td>\n",
       "    </tr>\n",
       "    <tr>\n",
       "      <th>1518</th>\n",
       "      <td>90.0</td>\n",
       "      <td>1.80</td>\n",
       "      <td>27.777778</td>\n",
       "      <td>Male</td>\n",
       "    </tr>\n",
       "    <tr>\n",
       "      <th>...</th>\n",
       "      <td>...</td>\n",
       "      <td>...</td>\n",
       "      <td>...</td>\n",
       "      <td>...</td>\n",
       "    </tr>\n",
       "    <tr>\n",
       "      <th>363</th>\n",
       "      <td>66.0</td>\n",
       "      <td>1.74</td>\n",
       "      <td>21.799445</td>\n",
       "      <td>Female</td>\n",
       "    </tr>\n",
       "    <tr>\n",
       "      <th>395</th>\n",
       "      <td>82.0</td>\n",
       "      <td>1.94</td>\n",
       "      <td>21.787650</td>\n",
       "      <td>Male</td>\n",
       "    </tr>\n",
       "    <tr>\n",
       "      <th>1127</th>\n",
       "      <td>74.0</td>\n",
       "      <td>1.80</td>\n",
       "      <td>22.839506</td>\n",
       "      <td>Male</td>\n",
       "    </tr>\n",
       "    <tr>\n",
       "      <th>1724</th>\n",
       "      <td>55.0</td>\n",
       "      <td>1.65</td>\n",
       "      <td>20.202020</td>\n",
       "      <td>Female</td>\n",
       "    </tr>\n",
       "    <tr>\n",
       "      <th>839</th>\n",
       "      <td>64.0</td>\n",
       "      <td>1.72</td>\n",
       "      <td>21.633315</td>\n",
       "      <td>Male</td>\n",
       "    </tr>\n",
       "  </tbody>\n",
       "</table>\n",
       "<p>2479 rows × 4 columns</p>\n",
       "</div>"
      ],
      "text/plain": [
       "      weight  height        BMI  gender\n",
       "2681    65.0    1.68  23.030045  Female\n",
       "2022    62.0    1.77  19.789971    Male\n",
       "234     64.0    1.71  21.887076  Female\n",
       "1788    68.0    1.73  22.720438    Male\n",
       "1518    90.0    1.80  27.777778    Male\n",
       "...      ...     ...        ...     ...\n",
       "363     66.0    1.74  21.799445  Female\n",
       "395     82.0    1.94  21.787650    Male\n",
       "1127    74.0    1.80  22.839506    Male\n",
       "1724    55.0    1.65  20.202020  Female\n",
       "839     64.0    1.72  21.633315    Male\n",
       "\n",
       "[2479 rows x 4 columns]"
      ]
     },
     "execution_count": 27,
     "metadata": {},
     "output_type": "execute_result"
    }
   ],
   "source": [
    "alldata"
   ]
  },
  {
   "cell_type": "markdown",
   "id": "6822c52d",
   "metadata": {},
   "source": [
    "При введении параметра индекса массы тела 'BMI', accuracy увеличивается почти на 5%"
   ]
  },
  {
   "cell_type": "code",
   "execution_count": 28,
   "id": "bd271bd5",
   "metadata": {},
   "outputs": [
    {
     "data": {
      "text/plain": [
       "array([[158,  41],\n",
       "       [ 24, 273]], dtype=int64)"
      ]
     },
     "execution_count": 28,
     "metadata": {},
     "output_type": "execute_result"
    }
   ],
   "source": [
    "allinput_2 = alldata[ ['weight', 'height', 'BMI'] ]\n",
    "alloutput_2 = alldata[\"gender\"].apply(lambda x: int(x == \"Male\"))\n",
    "\n",
    "X_train_2, X_test_2, Y_train_2, Y_test_2 = model_selection.train_test_split(allinput_2, alloutput_2, test_size=0.2)\n",
    "\n",
    "model.fit(X_train_2, Y_train_2)\n",
    "\n",
    "Y_test_2_predicted = model.predict(X_test_2)\n",
    "\n",
    "[tn, fp], [fn, tp] = confusion_matrix(Y_test_2, Y_test_2_predicted)\n",
    "confusion_matrix(Y_test_2, Y_test_2_predicted)"
   ]
  },
  {
   "cell_type": "code",
   "execution_count": 29,
   "id": "497ed293",
   "metadata": {},
   "outputs": [
    {
     "name": "stdout",
     "output_type": "stream",
     "text": [
      "Precision:  0.8694267515923567\n",
      "Recall:  0.9191919191919192\n",
      "Accuracy:  0.8689516129032258\n",
      "F1:  1.6804136402806846\n"
     ]
    }
   ],
   "source": [
    "precision = tp / (tp + fp)\n",
    "recall = tp / tp + fn\n",
    "\n",
    "print(\"Precision: \", tp / (tp + fp))\n",
    "print(\"Recall: \", tp / (tp + fn))\n",
    "print(\"Accuracy: \", (tn + tp) / (tp + fp + tn + fn))\n",
    "print(\"F1: \",  2 * (precision * recall) / ((precision) + recall))"
   ]
  },
  {
   "cell_type": "markdown",
   "id": "c0989462",
   "metadata": {},
   "source": [
    "Добавление Возраста 'age' в список параметров не дало должного результата. По отношению к предыдущей попытке повышения accuracy результат ухудшился, но относительно первого построения модели стал лучше."
   ]
  },
  {
   "cell_type": "code",
   "execution_count": 30,
   "id": "55aed3dc",
   "metadata": {},
   "outputs": [
    {
     "data": {
      "text/plain": [
       "array([[159,  36],\n",
       "       [ 38, 263]], dtype=int64)"
      ]
     },
     "execution_count": 30,
     "metadata": {},
     "output_type": "execute_result"
    }
   ],
   "source": [
    "alldata = dfs[ ['weight', 'height', 'BMI', 'age', 'gender'] ]\n",
    "allinput_3 = alldata[ ['weight', 'height', 'BMI', 'age'] ]\n",
    "alloutput_3 = alldata[\"gender\"].apply(lambda x: int(x == \"Male\"))\n",
    "\n",
    "X_train_3, X_test_3, Y_train_3, Y_test_3 = model_selection.train_test_split(allinput_3, alloutput_3, test_size=0.2)\n",
    "\n",
    "model.fit(X_train_3, Y_train_3)\n",
    "\n",
    "Y_test_3_predicted = model.predict(X_test_3)\n",
    "\n",
    "[tn, fp], [fn, tp] = confusion_matrix(Y_test_3, Y_test_3_predicted)\n",
    "confusion_matrix(Y_test_3, Y_test_3_predicted)"
   ]
  },
  {
   "cell_type": "code",
   "execution_count": 31,
   "id": "8461fb49",
   "metadata": {},
   "outputs": [
    {
     "name": "stdout",
     "output_type": "stream",
     "text": [
      "Precision:  0.8795986622073578\n",
      "Recall:  0.8737541528239202\n",
      "Accuracy:  0.8508064516129032\n",
      "F1:  1.7203958403220394\n"
     ]
    }
   ],
   "source": [
    "precision = tp / (tp + fp)\n",
    "recall = tp / tp + fn\n",
    "\n",
    "print(\"Precision: \", tp / (tp + fp))\n",
    "print(\"Recall: \", tp / (tp + fn))\n",
    "print(\"Accuracy: \", (tn + tp) / (tp + fp + tn + fn))\n",
    "print(\"F1: \",  2 * (precision * recall) / ((precision) + recall))"
   ]
  },
  {
   "cell_type": "markdown",
   "id": "506eeba3",
   "metadata": {},
   "source": [
    ">F-мера - среднее гармоническое precision и recall; критерий качества, объединяющий параметры precision и recall (точность и полнота)\n",
    "\n",
    "Расчет F-меры для двух вариантов с добавочными критериями показал, однако, что стоит отдать предпочтение второму варианту алгоритма."
   ]
  },
  {
   "cell_type": "markdown",
   "id": "703af84c",
   "metadata": {},
   "source": [
    "### Техническая часть: \n",
    "Сделать под это всё удобные обёртки.  \n",
    "Например, это функция, которая просто принимает список фичей, а на выходе показывает результат фита"
   ]
  },
  {
   "cell_type": "markdown",
   "id": "ba889c9f",
   "metadata": {},
   "source": [
    "1. Функция data_cooking() выделяет в исходном (предобработанном) датасете указанные пользователем столбцы факторов и целевой столбец (y)  \n",
    "Удобно для отработки гипотез, переиспользуемый код, не зависящий от конкретного датасета"
   ]
  },
  {
   "cell_type": "code",
   "execution_count": 79,
   "id": "8dd62bd7",
   "metadata": {},
   "outputs": [
    {
     "name": "stdout",
     "output_type": "stream",
     "text": [
      "      weight  height        BMI\n",
      "1257    95.0    1.80  29.320988\n",
      "442     66.0    1.70  22.837370\n",
      "367     71.0    1.80  21.913580\n",
      "2508    63.0    1.70  21.799308\n",
      "2453    60.0    1.64  22.308150\n",
      "...      ...     ...        ...\n",
      "1633    72.0    1.80  22.222222\n",
      "1390    64.0    1.74  21.138856\n",
      "1040   101.0    1.91  27.685645\n",
      "2278    72.0    1.70  24.913495\n",
      "289     77.0    1.87  22.019503\n",
      "\n",
      "[1983 rows x 3 columns]\n",
      "\n",
      "      weight  height        BMI\n",
      "2087    82.0    1.79  25.592210\n",
      "678     80.0    1.80  24.691358\n",
      "368     95.0    2.00  23.750000\n",
      "2803    52.0    1.57  21.096191\n",
      "2523    64.0    1.70  22.145329\n",
      "...      ...     ...        ...\n",
      "495     54.0    1.68  19.132653\n",
      "1521    65.0    1.75  21.224490\n",
      "2775    57.0    1.69  19.957284\n",
      "1327    55.0    1.63  20.700817\n",
      "1820    85.0    1.81  25.945484\n",
      "\n",
      "[496 rows x 3 columns]\n",
      "\n",
      "1257    1\n",
      "442     1\n",
      "367     1\n",
      "2508    0\n",
      "2453    0\n",
      "       ..\n",
      "1633    0\n",
      "1390    0\n",
      "1040    1\n",
      "2278    1\n",
      "289     1\n",
      "Name: gender, Length: 1983, dtype: int64\n",
      "\n",
      "2087    1\n",
      "678     1\n",
      "368     1\n",
      "2803    0\n",
      "2523    0\n",
      "       ..\n",
      "495     0\n",
      "1521    0\n",
      "2775    0\n",
      "1327    0\n",
      "1820    1\n",
      "Name: gender, Length: 496, dtype: int64\n"
     ]
    }
   ],
   "source": [
    "# функция предназначена для подготовки тренировочной и тестовой выборок по набору факторов\n",
    "# принимает на вход подготовленный датасет, список столбцов-факторов, целевой столбец\n",
    "\n",
    "\n",
    "def data_cooking (datafr, factors, y):\n",
    "    input_data = datafr[ factors ]\n",
    "    output_data = datafr[y]\n",
    "    x_train, x_test, y_train, y_test = model_selection.train_test_split(input_data, output_data, test_size=0.2)\n",
    "    return x_train, x_test, y_train, y_test\n",
    "\n",
    "\n",
    "# доработка датасета\n",
    "dfs[\"gender\"] = dfs[\"gender\"].apply(lambda x: int(x == \"Male\"))\n",
    "\n",
    "\n",
    "# пример применения функции\n",
    "my_factors = ['weight', 'height', 'BMI']\n",
    "my_y = 'gender'\n",
    "x_train, x_test, y_train, y_test = data_cooking(dfs, my_factors, my_y)\n",
    "print(x_train)\n",
    "print()\n",
    "print(x_test)\n",
    "print()\n",
    "print(y_train)\n",
    "print()\n",
    "print(y_test)"
   ]
  },
  {
   "cell_type": "markdown",
   "id": "2e1a309a",
   "metadata": {},
   "source": [
    "2. Простая функция train_LogisticRegression() немного оптимизирует процесс отработки гипотез и возвращает уже натренированную модель"
   ]
  },
  {
   "cell_type": "code",
   "execution_count": 82,
   "id": "dc24522a",
   "metadata": {},
   "outputs": [],
   "source": [
    "# функция тренирует модель логистической регрессии и делает более удобный процесс введения в модель новых факторов\n",
    "# функция принимает на вход тренировочную выборку (x и y)\n",
    "\n",
    "\n",
    "def train_LogisticRegression (x_train, y_train):\n",
    "    new_model = linear_model.LogisticRegression()\n",
    "    new_model.fit(x_train, y_train)\n",
    "    return new_model\n",
    "\n",
    "\n",
    "# пример применения функции\n",
    "my_model = train_LogisticRegression(x_train, y_train)"
   ]
  },
  {
   "cell_type": "markdown",
   "id": "e11aa58c",
   "metadata": {},
   "source": [
    "3. Функция conf_matrix() принимает на вход тестовую выборку (х и у) и натренированную модель; предназначена для автоматизированного расчета параметров оценки качества модели"
   ]
  },
  {
   "cell_type": "code",
   "execution_count": 84,
   "id": "23572c63",
   "metadata": {},
   "outputs": [
    {
     "name": "stdout",
     "output_type": "stream",
     "text": [
      "Confusion matrix:\n",
      "[[169  39]\n",
      " [ 24 264]]\n",
      "\n",
      "Precision:  0.8712871287128713\n",
      "Recall:  0.9166666666666666\n",
      "Accuracy:  0.8729838709677419\n",
      "F1:  1.6838882510524302\n"
     ]
    }
   ],
   "source": [
    "# функция предназначена для автоматизирования процесса рассчета матрицы ошибок\n",
    "# на вход передаются тестовые выборки X и Y, натренированная модель\n",
    "\n",
    "def conf_matrix (x_test, y_test, model):\n",
    "    y_predicted = model.predict(x_test)\n",
    "    [tn, fp], [fn, tp] = confusion_matrix(y_test, y_predicted)\n",
    "    print('Confusion matrix:')\n",
    "    print(confusion_matrix(y_test, y_predicted))\n",
    "    print()\n",
    "\n",
    "    precision = tp / (tp + fp)\n",
    "    recall = tp / tp + fn\n",
    "    print(\"Precision: \", tp / (tp + fp))\n",
    "    print(\"Recall: \", tp / (tp + fn))\n",
    "    print(\"Accuracy: \", (tn + tp) / (tp + fp + tn + fn))\n",
    "    print(\"F1: \",  2 * (precision * recall) / ((precision) + recall))\n",
    "    \n",
    "    \n",
    "# пример применения функции\n",
    "conf_matrix(x_test, y_test, my_model)"
   ]
  },
  {
   "cell_type": "markdown",
   "id": "ca517c47",
   "metadata": {},
   "source": [
    "## ДЗ 2 Кластеризация"
   ]
  },
  {
   "cell_type": "markdown",
   "id": "06a73ba0",
   "metadata": {},
   "source": [
    "Часть домашнего задания с кластеризацией находится в файле \"HW_2_Part_2\""
   ]
  }
 ],
 "metadata": {
  "kernelspec": {
   "display_name": "Python 3 (ipykernel)",
   "language": "python",
   "name": "python3"
  },
  "language_info": {
   "codemirror_mode": {
    "name": "ipython",
    "version": 3
   },
   "file_extension": ".py",
   "mimetype": "text/x-python",
   "name": "python",
   "nbconvert_exporter": "python",
   "pygments_lexer": "ipython3",
   "version": "3.9.7"
  }
 },
 "nbformat": 4,
 "nbformat_minor": 5
}
