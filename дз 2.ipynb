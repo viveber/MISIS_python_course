{
 "cells": [
  {
   "cell_type": "markdown",
   "id": "55405d29",
   "metadata": {},
   "source": [
    "### Задача 1 Какой месяц"
   ]
  },
  {
   "cell_type": "code",
   "execution_count": 2,
   "id": "42be8327",
   "metadata": {},
   "outputs": [
    {
     "name": "stdout",
     "output_type": "stream",
     "text": [
      "Введите номер месяца: 2\n",
      "Февраль\n",
      "Повторить? да / нет: да\n",
      "Введите номер месяца: 3\n",
      "Март\n",
      "Повторить? да / нет: нет\n"
     ]
    }
   ],
   "source": [
    "# with list\n",
    "months = ['Январь', 'Февраль', 'Март', 'Апрель', 'Май', 'Июнь', 'Июль', 'Август', 'Сентябрь', 'Октябрь', 'Ноябрь', 'Декабрь']\n",
    "start = 0\n",
    "while start != 'нет':\n",
    "    num = int(input('Введите номер месяца: '))\n",
    "    print(months[num-1])\n",
    "    start = input('Повторить? да / нет: ').lower()"
   ]
  },
  {
   "cell_type": "markdown",
   "id": "255dbfb8",
   "metadata": {},
   "source": [
    "### Задача 2 Наибольший общий делитель"
   ]
  },
  {
   "cell_type": "code",
   "execution_count": 8,
   "id": "57740b46",
   "metadata": {},
   "outputs": [
    {
     "name": "stdout",
     "output_type": "stream",
     "text": [
      "Введите первое число: 600\n",
      "Введите второе число: 1012\n",
      "Наибольшей общий делитель числел 600 и 1012 - 4\n"
     ]
    }
   ],
   "source": [
    "# self made\n",
    "num1, num2 = int(input('Введите первое число: ')), int(input('Введите второе число: '))\n",
    "if num1 > num2:\n",
    "    min_num = num2\n",
    "else:\n",
    "    min_num = num1\n",
    "delitel = 1\n",
    "for i in range(2, min_num+1):\n",
    "    if num1 % i == 0 and num2 % i == 0:\n",
    "        delitel = i\n",
    "print('Наибольшей общий делитель числел {} и {} - {}'.format(num1, num2, delitel))"
   ]
  },
  {
   "cell_type": "code",
   "execution_count": 9,
   "id": "df1ddeec",
   "metadata": {},
   "outputs": [
    {
     "name": "stdout",
     "output_type": "stream",
     "text": [
      "Введите первое число: 600\n",
      "Введите второе число: 1012\n",
      "4\n"
     ]
    }
   ],
   "source": [
    "#chill method\n",
    "import math\n",
    "print(math.gcd(int(input('Введите первое число: ')), int(input('Введите второе число: '))))"
   ]
  },
  {
   "cell_type": "markdown",
   "id": "5de68723",
   "metadata": {},
   "source": [
    "### Задача 3 Проверка расширения файла"
   ]
  },
  {
   "cell_type": "code",
   "execution_count": 15,
   "id": "b4f34d48",
   "metadata": {},
   "outputs": [
    {
     "name": "stdout",
     "output_type": "stream",
     "text": [
      "Введите название файла: test.txt\n",
      "Недопустимое расширение! Сохраните файл с другим расширением.\n"
     ]
    }
   ],
   "source": [
    "extensions = ['png', 'jpg', 'jpeg', 'gif', 'svg']\n",
    "file_name = input('Введите название файла: ')\n",
    "extension = file_name[file_name.find('.')+1:]\n",
    "if extension in extensions:\n",
    "    print('Расширение файла - ', extension)\n",
    "else:\n",
    "    print('Недопустимое расширение! Сохраните файл с другим расширением.')"
   ]
  },
  {
   "cell_type": "markdown",
   "id": "4199c573",
   "metadata": {},
   "source": [
    "### Задача 4 Вискосный Год"
   ]
  },
  {
   "cell_type": "code",
   "execution_count": 18,
   "id": "1484a96c",
   "metadata": {},
   "outputs": [
    {
     "name": "stdout",
     "output_type": "stream",
     "text": [
      "Введите год: 100\n",
      "Невисокосный\n"
     ]
    }
   ],
   "source": [
    "year = int(input('Введите год: '))\n",
    "if year % 4 == 0 and year % 100 != 0 or year % 400 == 0:\n",
    "    print('Год високосный.')\n",
    "else:\n",
    "    print('Невисокосный')"
   ]
  }
 ],
 "metadata": {
  "kernelspec": {
   "display_name": "Python 3 (ipykernel)",
   "language": "python",
   "name": "python3"
  },
  "language_info": {
   "codemirror_mode": {
    "name": "ipython",
    "version": 3
   },
   "file_extension": ".py",
   "mimetype": "text/x-python",
   "name": "python",
   "nbconvert_exporter": "python",
   "pygments_lexer": "ipython3",
   "version": "3.9.7"
  }
 },
 "nbformat": 4,
 "nbformat_minor": 5
}
