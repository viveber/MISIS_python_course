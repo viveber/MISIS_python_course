{
 "cells": [
  {
   "cell_type": "markdown",
   "id": "1c2961b3",
   "metadata": {},
   "source": [
    "## Задачи 1-3:"
   ]
  },
  {
   "cell_type": "markdown",
   "id": "d97daaa5",
   "metadata": {},
   "source": [
    "1. Напишите функцию, извлекающую корень n-й степени из числа x. По умолчанию def будет извлекать квадратный корень:"
   ]
  },
  {
   "cell_type": "code",
   "execution_count": 3,
   "id": "fe9a7fe7",
   "metadata": {},
   "outputs": [
    {
     "name": "stdout",
     "output_type": "stream",
     "text": [
      "Введите число: 8\n",
      "Введите степень корня: 3\n",
      "2.0\n"
     ]
    }
   ],
   "source": [
    "def math_root(x, degree): return pow(x, 1/degree)\n",
    "\n",
    "print(math_root(float(input('Введите число: ')), float(input('Введите степень корня: '))))"
   ]
  },
  {
   "cell_type": "markdown",
   "id": "a7f3deb0",
   "metadata": {},
   "source": [
    "2. Перепишите ваш код для проверки расширения из прошлого ДЗ в функцию которая принимает список расширений и имя файла"
   ]
  },
  {
   "cell_type": "code",
   "execution_count": 4,
   "id": "a6ee5ca6",
   "metadata": {},
   "outputs": [
    {
     "name": "stdout",
     "output_type": "stream",
     "text": [
      "Введите список расширений черх пробел(без запятых и точек): png txt svg mp3\n",
      "Введите название файла: test.txt\n",
      "Расширение файла -  txt\n"
     ]
    }
   ],
   "source": [
    "extensions = input('Введите список расширений черх пробел(без запятых и точек): ').split()\n",
    "file_name = input('Введите название файла: ')\n",
    "extension = file_name[file_name.find('.')+1:]\n",
    "if extension in extensions:\n",
    "    print('Расширение файла - ', extension)\n",
    "else:\n",
    "    print('Недопустимое расширение! Сохраните файл с другим расширением.')"
   ]
  },
  {
   "cell_type": "markdown",
   "id": "ff4d9874",
   "metadata": {},
   "source": [
    "3. Слейте воедино три словаря"
   ]
  },
  {
   "cell_type": "code",
   "execution_count": 11,
   "id": "6ed4fa8d",
   "metadata": {},
   "outputs": [
    {
     "name": "stdout",
     "output_type": "stream",
     "text": [
      "{1: 10, 2: 20, 3: 30, 4: 40, 5: 50, 6: 60}\n"
     ]
    }
   ],
   "source": [
    "dict_a = {1:10, 2:20}\n",
    "dict_b = {3:30, 4:40}\n",
    "dict_c = {5:50, 6:60}\n",
    "\n",
    "new_dict = dict_a | dict_b | dict_c\n",
    "print(new_dict)"
   ]
  },
  {
   "cell_type": "markdown",
   "id": "0c8e5335",
   "metadata": {},
   "source": [
    "## Задача 4-5"
   ]
  },
  {
   "cell_type": "markdown",
   "id": "40a6b7ff",
   "metadata": {},
   "source": [
    "4. Напишите функцию которая будет складывать цифры внутри числа"
   ]
  },
  {
   "cell_type": "code",
   "execution_count": 21,
   "id": "4f13df7c",
   "metadata": {},
   "outputs": [
    {
     "name": "stdout",
     "output_type": "stream",
     "text": [
      "-1.2\n",
      "3\n"
     ]
    }
   ],
   "source": [
    "def sum_digits(x):\n",
    "    x = x.replace('-', '').replace('.', '')\n",
    "    result = 0\n",
    "    for i in str(x):\n",
    "        result += int(i)\n",
    "    return result\n",
    "    \n",
    "print(sum_digits(input()))"
   ]
  },
  {
   "cell_type": "markdown",
   "id": "3d3d2858",
   "metadata": {},
   "source": [
    "5. Нужно проверить, все ли числа в последовательности уникальны."
   ]
  },
  {
   "cell_type": "code",
   "execution_count": 8,
   "id": "a5a4c1dd",
   "metadata": {},
   "outputs": [
    {
     "name": "stdout",
     "output_type": "stream",
     "text": [
      "3 54 4\n",
      "Все числа последовательности уникальны\n"
     ]
    }
   ],
   "source": [
    "def unique_nums(sequence):\n",
    "    nums = sequence.split()\n",
    "    counter = 0\n",
    "    for num in nums:\n",
    "        counter += nums.count(num)\n",
    "    if counter == len(nums):\n",
    "        return 'Все числа последовательности уникальны'\n",
    "    else:\n",
    "        return 'В последовательности есть не уникальные числа'\n",
    "print(unique_nums(input()))"
   ]
  },
  {
   "cell_type": "markdown",
   "id": "eafdef94",
   "metadata": {},
   "source": [
    "## Задача 6"
   ]
  },
  {
   "cell_type": "markdown",
   "id": "99aef327",
   "metadata": {},
   "source": [
    "6. Создать функцию, которая просто печатает все элементы заданного ей списка:\n",
    "\n",
    " НОМЕР J --> ЗНАЧЕНИЕ\n",
    " \n",
    " НОМЕР K --> ЗНАЧЕНИЕ\n",
    " \n",
    "J, K — порядковые номера в списке\n",
    "\n",
    "Подсказка: один из способов это сделать (наиболее \"в лоб\" и в каком-то смысле наименее питонячий) это создать переменную, которая будет пробегать все номера от 0 до длины переданного списка и печатать просто строчку \"этот номер\" и элемент списка под индексом i. В таком варианте для цикла у вас будет использоваться оператор while. Не забудьте что внутри цикла вам надо будет увеличивать вашу переменную на один каждый раз"
   ]
  },
  {
   "cell_type": "code",
   "execution_count": 23,
   "id": "b87c85fb",
   "metadata": {},
   "outputs": [
    {
     "name": "stdout",
     "output_type": "stream",
     "text": [
      "Номер 1 --> я\n",
      "Номер 2 --> не\n",
      "Номер 3 --> в\n",
      "Номер 4 --> отпуск\n"
     ]
    }
   ],
   "source": [
    "def print_list(my_list):\n",
    "    print(*['Номер '+ str(my_list.index(i)+1) + ' --> ' + str(i) for i in my_list], sep='\\n')\n",
    "\n",
    "print_list([\"я\", \"не\", \"в\", \"отпуск\" ])"
   ]
  },
  {
   "cell_type": "markdown",
   "id": "1d99b8ec",
   "metadata": {},
   "source": [
    "## Задача 7"
   ]
  },
  {
   "cell_type": "markdown",
   "id": "6f32364f",
   "metadata": {},
   "source": [
    "7. Создать функцию, которая печатает каждый элемент словарика\n",
    "\n",
    "    КЛЮЧ J --> ЗНАЧЕНИЕ\n",
    "    \n",
    "    КЛЮЧ K --> ЗНАЧЕНИЕ\n",
    "    \n",
    "J, K — ключи словарика\n",
    "\n",
    "Подсказка: тут уже не получится просто создать переменную от 0 до чего-то и перебирать по ней просто увеличивая её на один, потому что в словарике ключи несортированы и непоследовательны. Это, кстати, означает заодно то что порядок вывода в функции может отличаться от того, в каком вы создавали словарик. Тут вам понадобится либо метод keys либо метод items, и может быть, такие понятия как \"распаковка\". Цикл будет сделан с помощью оператора for. Эту задачку можно решить и без цикла через list comprehension. Про работу со словариками посмотрите конец занятия L1.1"
   ]
  },
  {
   "cell_type": "code",
   "execution_count": 22,
   "id": "1a78e469",
   "metadata": {},
   "outputs": [
    {
     "name": "stdout",
     "output_type": "stream",
     "text": [
      "Ключ key1 --> 2\n",
      "Ключ key3 --> False\n",
      "Ключ Приветствие --> Hello\n"
     ]
    }
   ],
   "source": [
    "def print_dict(my_dict):\n",
    "    for key, value in my_dict.items():\n",
    "         print('Ключ ' + str(key), '-->', value)\n",
    "\n",
    "print_dict({\"key1\": 2, \"key3\": False, \"Приветствие\": \"Hello\"})"
   ]
  },
  {
   "cell_type": "markdown",
   "id": "ac4670c7",
   "metadata": {},
   "source": [
    "## Задача 8"
   ]
  },
  {
   "cell_type": "markdown",
   "id": "8c3ee5e6",
   "metadata": {},
   "source": [
    "8. Сделать функцию, которая использует две уже написанные функции следующим образом:\n",
    "\n",
    "если ЗНАЧЕНИЕ это LIST --> вызывается print_list\n",
    "\n",
    "если ЗНАЧЕНИЕ это DICT --> вызывается print_dict\n",
    "\n",
    "во всех других случаях просто выводится ЗНАЧЕНИЕ\n",
    "\n",
    "Подсказка: тут вам вообще не нужны ключи (но можете их тоже печатать), только значения словаря. А для определения типа значений в словарие вам пригодится оператор isinstance. Итерацию по значениям в словарике надо будет сделать через for, а для того чтобы получить значения вы можете использовать как метод items так и values."
   ]
  },
  {
   "cell_type": "code",
   "execution_count": 31,
   "id": "7cc9b802",
   "metadata": {},
   "outputs": [
    {
     "name": "stdout",
     "output_type": "stream",
     "text": [
      "1\n",
      "Номер 1 --> 1\n",
      "Номер 2 --> 2\n",
      "Номер 3 --> 3\n",
      "Номер 4 --> 4\n",
      "Hello\n",
      "Ключ ciao --> Mondo\n",
      "Ключ Привет --> О дивный мир\n"
     ]
    }
   ],
   "source": [
    "def print_overlord(mydict):\n",
    "    for val in mydict.values():\n",
    "        if isinstance(val, list):\n",
    "            print_list(val)\n",
    "        elif isinstance(val, dict):\n",
    "            print_dict(val)\n",
    "        else:\n",
    "            print(val)\n",
    "\n",
    "print_overlord(dict(key1=1,\n",
    "            key2=[1, 2, 3, 4], \n",
    "            key3='Hello', \n",
    "            key4={\"ciao\":\"Mondo\", \"Привет\": \"О дивный мир\"}))"
   ]
  },
  {
   "cell_type": "markdown",
   "id": "4eea335b",
   "metadata": {},
   "source": [
    "## Придумать две темы из IT про которые вам было бы интересно послушать"
   ]
  },
  {
   "cell_type": "markdown",
   "id": "06c136dc",
   "metadata": {},
   "source": [
    "Интересно посмотреть и порешать реальные задачи из практики [естественно без информации, попадающей под НДА :) ].\n",
    "DS, Web или другие сферы применения, но с формулировкой реальной задачи\n",
    "\n",
    "Телеграм-бот (но его как раз сделали)"
   ]
  }
 ],
 "metadata": {
  "kernelspec": {
   "display_name": "Python 3 (ipykernel)",
   "language": "python",
   "name": "python3"
  },
  "language_info": {
   "codemirror_mode": {
    "name": "ipython",
    "version": 3
   },
   "file_extension": ".py",
   "mimetype": "text/x-python",
   "name": "python",
   "nbconvert_exporter": "python",
   "pygments_lexer": "ipython3",
   "version": "3.9.7"
  }
 },
 "nbformat": 4,
 "nbformat_minor": 5
}
