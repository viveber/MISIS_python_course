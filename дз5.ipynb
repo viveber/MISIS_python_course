{
 "cells": [
  {
   "cell_type": "markdown",
   "id": "f660c1bb",
   "metadata": {},
   "source": [
    "## Задача 1. "
   ]
  },
  {
   "cell_type": "markdown",
   "id": "26ea420b",
   "metadata": {},
   "source": [
    "Напишите программу с классом Student, в котором есть три атрибута: name, groupNumber и age. \n",
    "\n",
    "По умолчанию name = Ivan, age = 18, groupNumber = 10A. \n",
    "\n",
    "Необходимо создать пять методов: getName, getAge, getGroupNumber, setNameAge, setGroupNumber. \n",
    "\n",
    "- getName нужен для получения данных об имени конкретного студента\n",
    "\n",
    "- getAge нужен для получения данных о возрасте конкретного студента\n",
    "\n",
    "- setGroupNumberнужен для получения данных о номере группы конкретного студента. \n",
    "\n",
    "- SetNameAge позволяет изменить данные атрибутов установленных по умолчанию\n",
    "\n",
    "- setGroupNumber позволяет изменить номер группы установленный по умолчанию. \n",
    "\n",
    "В программе необходимо создать пять экземпляров класса Student, установить им разные имена, возраст и номер группы."
   ]
  },
  {
   "cell_type": "code",
   "execution_count": 23,
   "id": "4df175d9",
   "metadata": {},
   "outputs": [],
   "source": [
    "class Student(object):\n",
    "    def __init__(self,\n",
    "                 name ='Ivan',\n",
    "                 groupNumber ='10А',\n",
    "                 age = 18\n",
    "    ):\n",
    "        self.name = name\n",
    "        self.groupNumber = groupNumber\n",
    "        self.age = age\n",
    "        \n",
    "    def __str__(self):\n",
    "        return self.info\n",
    "        \n",
    "    def getName(self):\n",
    "        print('Имя  - ', self.name)\n",
    "    \n",
    "    def getAge(self):\n",
    "        print('Возраст - ', self.age)\n",
    "    \n",
    "    def getGroupNumber(self):\n",
    "        print('Номер группы - ', self.groupNumber)\n",
    "    \n",
    "    @property\n",
    "    def info(self):\n",
    "        return f'{self.name} {self.age}, {self.groupNumber}'\n",
    "        \n",
    "    @info.setter\n",
    "    def setNameAge(self, value):\n",
    "        self.name, self.age = value.split(' ', 1)\n",
    "    \n",
    "    @info.setter\n",
    "    def setGroupNumber(self, value):\n",
    "        self.groupNumber = value\n",
    "        \n",
    "\n",
    "stud1 = Student()\n",
    "stud2 = Student('Vika', '21-2-4', 22)\n",
    "stud3 = Student('Ram')\n",
    "stud4 = Student()\n",
    "stud5 = Student()"
   ]
  },
  {
   "cell_type": "code",
   "execution_count": 24,
   "id": "1707885c",
   "metadata": {},
   "outputs": [
    {
     "name": "stdout",
     "output_type": "stream",
     "text": [
      "Возраст -  18\n",
      "Vika 22, 21-2-4\n",
      "Имя  -  Ram\n",
      "John 20, 10А\n",
      "Ivan 18, my_own\n"
     ]
    }
   ],
   "source": [
    "stud1.getAge()\n",
    "\n",
    "print(stud2)\n",
    "\n",
    "stud3.getName()\n",
    "\n",
    "stud4.setNameAge = 'John 20'\n",
    "print(stud4)\n",
    "\n",
    "stud5.setGroupNumber = 'my_own'\n",
    "print(stud5)"
   ]
  },
  {
   "cell_type": "markdown",
   "id": "6d95fcad",
   "metadata": {},
   "source": [
    "## Задача 2."
   ]
  },
  {
   "cell_type": "markdown",
   "id": "6d72c506",
   "metadata": {},
   "source": [
    "Напишите программу с классом Car. Создайте конструктор класса Car. \n",
    "\n",
    "Создайте атрибуты класса Car — color (цвет), type (тип), year (год). Напишите пять методов. \n",
    "- Первый — запуск автомобиля, при его вызове выводится сообщение «Автомобиль заведен». \n",
    "- Второй — отключение автомобиля — выводит сообщение «Автомобиль заглушен». \n",
    "- Третий — присвоение автомобилю года выпуска. \n",
    "- Четвертый метод — присвоение автомобилю типа. \n",
    "- Пятый — присвоение автомобилю цвета."
   ]
  },
  {
   "cell_type": "code",
   "execution_count": 27,
   "id": "c75d80f7",
   "metadata": {},
   "outputs": [],
   "source": [
    "class Car(object):\n",
    "    def __init__(self, color, Type, year):\n",
    "        self.color = color\n",
    "        self.Type = Type\n",
    "        self.year = year\n",
    "        \n",
    "    def __str__(self):\n",
    "        return self.info\n",
    "        \n",
    "    def turnOn(self):\n",
    "        print('Автомобиль заведён')\n",
    "    \n",
    "    def turnOff(self):\n",
    "        print('Автомобиль заглушен')\n",
    "    \n",
    "    @property\n",
    "    def info(self):\n",
    "        return f'Цвет - {self.color}, Тип - {self.Type}, Год выпуска - {self.year}'\n",
    "        \n",
    "    @info.setter\n",
    "    def setYear(self, value):\n",
    "        self.year = value\n",
    "    \n",
    "    @info.setter\n",
    "    def setType(self, value):\n",
    "        self.Type = value\n",
    "    \n",
    "    @info.setter\n",
    "    def setColor(self, value):\n",
    "        self.color = value"
   ]
  },
  {
   "cell_type": "code",
   "execution_count": 29,
   "id": "63dc2bb5",
   "metadata": {},
   "outputs": [
    {
     "name": "stdout",
     "output_type": "stream",
     "text": [
      "Цвет - Black, Тип - Crossover, Год выпуска - 2018\n",
      "Цвет - Green, Тип - sportcar, Год выпуска - 2021\n"
     ]
    }
   ],
   "source": [
    "my_car = Car('Black', 'Crossover', 2018)\n",
    "print(my_car)\n",
    "my_car.setYear = 2021\n",
    "my_car.setType = 'sportcar'\n",
    "my_car.setColor = 'Green'\n",
    "print(my_car)"
   ]
  },
  {
   "cell_type": "markdown",
   "id": "910dba5e",
   "metadata": {},
   "source": [
    "## Задача 3. "
   ]
  },
  {
   "cell_type": "markdown",
   "id": "1fd1ffd4",
   "metadata": {},
   "source": [
    "Допишите функцию Nutrionm"
   ]
  },
  {
   "cell_type": "code",
   "execution_count": 60,
   "id": "181d0b47",
   "metadata": {},
   "outputs": [],
   "source": [
    "class NutritionInfo:\n",
    "    def __init__(self, proteins, carbs, fats):\n",
    "        self.proteins = proteins\n",
    "        self.carbs = carbs\n",
    "        self.fats = fats\n",
    "    \n",
    "    def __add__(self, other):\n",
    "        return NutritionInfo(self.proteins + other.proteins, self.carbs + other.carbs, self.fats + other.fats)\n",
    "    \n",
    "    def __mul__(self, number):\n",
    "        if isinstance(number, int):\n",
    "            return NutritionInfo(self.proteins * number, self.carbs * number, self.fats * number)\n",
    "    \n",
    "    def __str__(self):\n",
    "        return f\"Nutrition p {self.proteins}, c {self.carbs}, f {self.fats}\"\n",
    "        \n",
    "    def energy(self):\n",
    "        return int(self.fats * 9 + (self.carbs + self.proteins) * 4.2)"
   ]
  },
  {
   "cell_type": "code",
   "execution_count": 57,
   "id": "3cb89860",
   "metadata": {},
   "outputs": [
    {
     "name": "stdout",
     "output_type": "stream",
     "text": [
      "Nutrition p 2, c 4, f 6\n"
     ]
    }
   ],
   "source": [
    "egg = NutritionInfo(1, 2, 3)\n",
    "pastila = NutritionInfo(1, 2, 3)\n",
    "tvorog_9 = NutritionInfo(18, 3, 9)\n",
    "apple = NutritionInfo(0, 25, 0)\n",
    "\n",
    "print(egg + pastila)"
   ]
  },
  {
   "cell_type": "code",
   "execution_count": 62,
   "id": "2a2b1edf",
   "metadata": {},
   "outputs": [
    {
     "data": {
      "text/plain": [
       "315"
      ]
     },
     "execution_count": 62,
     "metadata": {},
     "output_type": "execute_result"
    }
   ],
   "source": [
    "breakfast = apple * 3\n",
    "breakfast.energy()"
   ]
  },
  {
   "cell_type": "code",
   "execution_count": null,
   "id": "9c1434de",
   "metadata": {},
   "outputs": [],
   "source": []
  }
 ],
 "metadata": {
  "kernelspec": {
   "display_name": "Python 3 (ipykernel)",
   "language": "python",
   "name": "python3"
  },
  "language_info": {
   "codemirror_mode": {
    "name": "ipython",
    "version": 3
   },
   "file_extension": ".py",
   "mimetype": "text/x-python",
   "name": "python",
   "nbconvert_exporter": "python",
   "pygments_lexer": "ipython3",
   "version": "3.9.7"
  }
 },
 "nbformat": 4,
 "nbformat_minor": 5
}
